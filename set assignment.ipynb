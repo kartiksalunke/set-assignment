{
 "cells": [
  {
   "cell_type": "code",
   "execution_count": 1,
   "id": "c107c969-1f98-491d-81f2-9df3e473deb3",
   "metadata": {},
   "outputs": [],
   "source": [
    "#Q.1\n",
    "#Ans\n",
    "#In Python, a set is an unordered collection of unique elements. It's a built-in data type that is used to store multiple values without any specific order and without allowing duplicate values. Sets are commonly used to perform mathematical operations like intersection, union, and difference, as well as to eliminate duplicate values from a collection of items."
   ]
  },
  {
   "cell_type": "code",
   "execution_count": 2,
   "id": "e7c6e4eb-b728-4b62-9673-0dc3bb677550",
   "metadata": {},
   "outputs": [],
   "source": [
    "#Q.2\n",
    "#Ans:In Python, you can create a set using curly braces {} or by using the built-in set() function. "
   ]
  },
  {
   "cell_type": "code",
   "execution_count": 3,
   "id": "e9ad6cc5-1fb4-47cd-8986-2e2e7e66cbfc",
   "metadata": {},
   "outputs": [],
   "source": [
    "#Q.3\n",
    "#Ans: You can add elements to a set in Python using the add() method or by using the update() method"
   ]
  },
  {
   "cell_type": "code",
   "execution_count": 4,
   "id": "ed7b332f-1cfc-4cfd-a9ed-d4fa7f74e14f",
   "metadata": {},
   "outputs": [],
   "source": [
    "#Q.4\n",
    "#Ans:using the remove(),discard(),pop(),clear() method"
   ]
  },
  {
   "cell_type": "code",
   "execution_count": 5,
   "id": "a322a502-275d-466f-b183-c0e07c4c40ea",
   "metadata": {},
   "outputs": [],
   "source": [
    "#Q.5\n",
    "#Ans:You can get the length (number of elements) of a set in Python using the built-in len() function."
   ]
  },
  {
   "cell_type": "code",
   "execution_count": null,
   "id": "e817d098-224d-4a8b-b3d2-a5c91c238d38",
   "metadata": {},
   "outputs": [],
   "source": []
  }
 ],
 "metadata": {
  "kernelspec": {
   "display_name": "Python 3 (ipykernel)",
   "language": "python",
   "name": "python3"
  },
  "language_info": {
   "codemirror_mode": {
    "name": "ipython",
    "version": 3
   },
   "file_extension": ".py",
   "mimetype": "text/x-python",
   "name": "python",
   "nbconvert_exporter": "python",
   "pygments_lexer": "ipython3",
   "version": "3.10.8"
  }
 },
 "nbformat": 4,
 "nbformat_minor": 5
}
